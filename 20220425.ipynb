{
  "nbformat": 4,
  "nbformat_minor": 0,
  "metadata": {
    "colab": {
      "name": "20220425.ipynb",
      "provenance": [],
      "authorship_tag": "ABX9TyMiYUrs/17g1OZr6Gr3UD85",
      "include_colab_link": true
    },
    "kernelspec": {
      "name": "python3",
      "display_name": "Python 3"
    },
    "language_info": {
      "name": "python"
    }
  },
  "cells": [
    {
      "cell_type": "markdown",
      "metadata": {
        "id": "view-in-github",
        "colab_type": "text"
      },
      "source": [
        "<a href=\"https://colab.research.google.com/github/yeonduu/class2022spring/blob/main/20220425.ipynb\" target=\"_parent\"><img src=\"https://colab.research.google.com/assets/colab-badge.svg\" alt=\"Open In Colab\"/></a>"
      ]
    },
    {
      "cell_type": "code",
      "execution_count": null,
      "metadata": {
        "id": "QT85lFXDQMjM"
      },
      "outputs": [],
      "source": [
        "\n"
      ]
    },
    {
      "cell_type": "markdown",
      "source": [
        "**Auto Correlation**\n",
        "\n",
        "*   delay된 자기 신호와의 상관관계\n",
        "*   (지연으로 인한)서로 다른 관측치 사이의 유사성\n",
        "\n",
        "*   반복된 패턴 찾거나 누락된 기본 주파수 식별하기 위한 수학적 도구\n",
        "*   함수나 일련의 값을 분석하기 위해 사용됨\n",
        "\n",
        "\n",
        "\n",
        "**Root Mean Square**\n",
        "\n",
        "\n",
        "*   제곱평균제곱근\n",
        "*   변화하는 값의 크기에 대한 통계적 척도\n",
        "\n",
        "*  특히 사인함수처럼 변수들이 음과 양을 오고 갈 때에 유용\n",
        "*  일련의 값들의 원래의 값의 제곱들에 대한 산술평균의 제곱근\n",
        "\n",
        "*   신호 레벨을 나타내는데 유용\n",
        "\n",
        "\n",
        "\n",
        "\n",
        "\n",
        "\n",
        "\n",
        "\n",
        "\n",
        "\n"
      ],
      "metadata": {
        "id": "AZ4ZjBcMQPvq"
      }
    }
  ]
}