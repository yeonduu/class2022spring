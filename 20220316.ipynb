{
  "nbformat": 4,
  "nbformat_minor": 0,
  "metadata": {
    "colab": {
      "name": "20220316.ipynb",
      "provenance": [],
      "authorship_tag": "ABX9TyNCdw6flEeIqOM1WE4Ku+kQ",
      "include_colab_link": true
    },
    "kernelspec": {
      "name": "python3",
      "display_name": "Python 3"
    },
    "language_info": {
      "name": "python"
    }
  },
  "cells": [
    {
      "cell_type": "markdown",
      "metadata": {
        "id": "view-in-github",
        "colab_type": "text"
      },
      "source": [
        "<a href=\"https://colab.research.google.com/github/yeonduu/class2022spring/blob/main/20220316.ipynb\" target=\"_parent\"><img src=\"https://colab.research.google.com/assets/colab-badge.svg\" alt=\"Open In Colab\"/></a>"
      ]
    },
    {
      "cell_type": "markdown",
      "source": [
        "# 코딩 중요 요소\n",
        "\n",
        "1)\t**변수** -> variables / string은 variables 중에서 중요한 것들을 따로 빼놓은 것임\n",
        "\n",
        "2)\t**문법** -> syntax / 조건문 if , 반복문 for\n",
        "\n",
        "3)\t**함수** -> function\n",
        "\n",
        "4) **패키지**(=라이브러리) -> packages / 특정한 목적을 위해 여러가지 함수 등을 모아둔 것. *패키지를 불러오는 것은 ‘import’\n"
      ],
      "metadata": {
        "id": "L8Q9idK18Qe_"
      }
    },
    {
      "cell_type": "markdown",
      "source": [
        "Word는 meaning과 content를 가지고 프로그래밍에서도 마찬가지임\n",
        "\n",
        "Word = 변수,  Word를 조합하는 방식 = 문법\n"
      ],
      "metadata": {
        "id": "f-ezQ_2L9N2C"
      }
    },
    {
      "cell_type": "markdown",
      "source": [
        "# 변수(Variables)\n",
        "변수의 종류\n",
        "\n",
        "1) Numbers(숫자)\n",
        "\n",
        "2) String(문자)\n",
        "\n",
        "3) List -> 문자와 숫자 여럿을 담을 때\n",
        "\n",
        "4) Tuple -> List와 모든 게 같음 대괄호 [ ] 대신 괄호 ( ) 사용 / tuple은 list와 달리 내부 아이템을 바꿀 수 없다는 차이가 있음\n",
        "\n",
        "5) Dict"
      ],
      "metadata": {
        "id": "AE1y1RcY9wag"
      }
    },
    {
      "cell_type": "markdown",
      "source": [
        "**공통사항**\n",
        "\n",
        "equal sign '='을 통해 실행\n",
        "\n",
        "print(a) -> 변수 내용\n",
        "\n",
        "print(type(a)) -> 변수의 type  \n",
        "\n",
        "\n",
        ">*int,  float,  str,  list, tuple,  dict\n",
        "\n",
        "\n",
        " "
      ],
      "metadata": {
        "id": "jKAJcrsHBywS"
      }
    },
    {
      "cell_type": "code",
      "source": [
        "a = 1; print(a)"
      ],
      "metadata": {
        "colab": {
          "base_uri": "https://localhost:8080/"
        },
        "id": "EQ5RAsXhCwEp",
        "outputId": "46f5cf66-bed6-4987-d03f-423734720484"
      },
      "execution_count": null,
      "outputs": [
        {
          "output_type": "stream",
          "name": "stdout",
          "text": [
            "1\n"
          ]
        }
      ]
    },
    {
      "cell_type": "code",
      "source": [
        "a = 1; print(type(a))"
      ],
      "metadata": {
        "colab": {
          "base_uri": "https://localhost:8080/"
        },
        "id": "qdlgwezKCV0l",
        "outputId": "893c0c8d-5956-4db8-b8a8-580f8b211572"
      },
      "execution_count": null,
      "outputs": [
        {
          "output_type": "stream",
          "name": "stdout",
          "text": [
            "<class 'int'>\n"
          ]
        }
      ]
    },
    {
      "cell_type": "code",
      "source": [
        "b = 1.1; print(type(b))"
      ],
      "metadata": {
        "colab": {
          "base_uri": "https://localhost:8080/"
        },
        "id": "QHe8khGwCmWS",
        "outputId": "00403671-621e-4d0d-c4e1-284c796a4b15"
      },
      "execution_count": null,
      "outputs": [
        {
          "output_type": "stream",
          "name": "stdout",
          "text": [
            "<class 'float'>\n"
          ]
        }
      ]
    },
    {
      "cell_type": "markdown",
      "source": [
        "**String 생성하는 법 **\n",
        "' ' 또는 \" \" 사용\n",
        "\n",
        "문자뿐만 아니라 숫자에도 ' '를 붙이면 string "
      ],
      "metadata": {
        "id": "Nh4wTgVaDd4_"
      }
    },
    {
      "cell_type": "code",
      "source": [
        "a = '123'; print(type(a))"
      ],
      "metadata": {
        "colab": {
          "base_uri": "https://localhost:8080/"
        },
        "id": "kxto0Or8Fr0X",
        "outputId": "abae3b3c-45a3-4d33-b103-ad7098104778"
      },
      "execution_count": null,
      "outputs": [
        {
          "output_type": "stream",
          "name": "stdout",
          "text": [
            "<class 'str'>\n"
          ]
        }
      ]
    },
    {
      "cell_type": "code",
      "source": [
        "a = 'hello'; print(type(a))"
      ],
      "metadata": {
        "colab": {
          "base_uri": "https://localhost:8080/"
        },
        "id": "VQCOWQVKFzFh",
        "outputId": "7df6f703-be3d-409b-ef9b-b5026fb11704"
      },
      "execution_count": null,
      "outputs": [
        {
          "output_type": "stream",
          "name": "stdout",
          "text": [
            "<class 'str'>\n"
          ]
        }
      ]
    },
    {
      "cell_type": "markdown",
      "source": [
        "**List**\n",
        "\n",
        "문자나 숫자를 여러 개 담을 때 사용하며 대괄호  [ ] 안에 콤마  ' , '를 사용하여 구분 \n",
        "\n",
        "'list' 안에 'list' 가 들어갈 수 있음"
      ],
      "metadata": {
        "id": "4cgdgnHMF9h1"
      }
    },
    {
      "cell_type": "code",
      "source": [
        "a = [1, 2, 3, 4]; print(type(a))"
      ],
      "metadata": {
        "colab": {
          "base_uri": "https://localhost:8080/"
        },
        "id": "fiVHAD53GiM2",
        "outputId": "9eba61b9-9170-43c8-c2c9-6f568bbc6b22"
      },
      "execution_count": null,
      "outputs": [
        {
          "output_type": "stream",
          "name": "stdout",
          "text": [
            "<class 'list'>\n"
          ]
        }
      ]
    },
    {
      "cell_type": "code",
      "source": [
        "a = [1,'a', [3, '4']]; print(type(a))"
      ],
      "metadata": {
        "colab": {
          "base_uri": "https://localhost:8080/"
        },
        "id": "E_XI5-PcGj75",
        "outputId": "c6424186-11bd-45c2-d8d3-eacddaf3f744"
      },
      "execution_count": null,
      "outputs": [
        {
          "output_type": "stream",
          "name": "stdout",
          "text": [
            "<class 'list'>\n"
          ]
        }
      ]
    },
    {
      "cell_type": "markdown",
      "source": [
        "List 인덱싱\n",
        "\n",
        "대괄호 안의 여러 아이템 중 원하는 부분만 가져오는 것\n",
        "\n",
        "a[0] -> list a의 0번를 불러오는 것.\n",
        "\n",
        "> 참고로 제일 왼쪽부터 0번임\n",
        "\n",
        "\n",
        "> 이때 print를 생략하는 이유는?  마지막 줄은 print를 생략해도 print를 입력한 것과 같기 때문임\n",
        "\n",
        "> 1번부터 2번까지를 산출할 때는  1:2가 아닌 1:3임 (‘ : ‘의 왼쪽은 포함하고 오른쪽은 포함하지 않기 때문)\n",
        "\n",
        "\n",
        "\n",
        "\n",
        "\n",
        "\n",
        "\n"
      ],
      "metadata": {
        "id": "ugJRE7oxHR24"
      }
    },
    {
      "cell_type": "code",
      "source": [
        "a=[1, 2, 3, 4];a[0]"
      ],
      "metadata": {
        "colab": {
          "base_uri": "https://localhost:8080/"
        },
        "id": "-ab2TOOOLYJh",
        "outputId": "4baaed98-b093-4451-89ce-5a0a25a1e5aa"
      },
      "execution_count": null,
      "outputs": [
        {
          "output_type": "execute_result",
          "data": {
            "text/plain": [
              "1"
            ]
          },
          "metadata": {},
          "execution_count": 14
        }
      ]
    },
    {
      "cell_type": "code",
      "source": [
        "a=[1, 2, 3, 4, 5, 6]; a[2:5]"
      ],
      "metadata": {
        "colab": {
          "base_uri": "https://localhost:8080/"
        },
        "id": "td27kodDLX6N",
        "outputId": "e9656b73-928a-44ad-b6ae-0a1d62bcd5fc"
      },
      "execution_count": null,
      "outputs": [
        {
          "output_type": "execute_result",
          "data": {
            "text/plain": [
              "[3, 4, 5]"
            ]
          },
          "metadata": {},
          "execution_count": 15
        }
      ]
    },
    {
      "cell_type": "code",
      "source": [
        "a=[1, 2, 3, 4, 5, 6]; a[2:-1]"
      ],
      "metadata": {
        "colab": {
          "base_uri": "https://localhost:8080/"
        },
        "id": "mBY0dPpkQeEX",
        "outputId": "badbc03e-be0f-4d18-c08e-4206c62f9fcb"
      },
      "execution_count": 16,
      "outputs": [
        {
          "output_type": "execute_result",
          "data": {
            "text/plain": [
              "[3, 4, 5]"
            ]
          },
          "metadata": {},
          "execution_count": 16
        }
      ]
    },
    {
      "cell_type": "code",
      "source": [
        "a = [1,'a', [3, '4']]; print(a[0]); print(a[1]); print(a[2]); print(a[0:2])"
      ],
      "metadata": {
        "colab": {
          "base_uri": "https://localhost:8080/"
        },
        "id": "QpVw9M4pKWhG",
        "outputId": "0b50f0d1-2577-48d2-9927-a0e5da2ae72b"
      },
      "execution_count": null,
      "outputs": [
        {
          "output_type": "stream",
          "name": "stdout",
          "text": [
            "1\n",
            "a\n",
            "[3, '4']\n",
            "[1, 'a']\n"
          ]
        }
      ]
    },
    {
      "cell_type": "code",
      "source": [
        "a = [1,'a', [3, '4']]\n",
        "a[2][0]"
      ],
      "metadata": {
        "colab": {
          "base_uri": "https://localhost:8080/"
        },
        "id": "Zuq8WzFDRMet",
        "outputId": "8f77163c-570a-491c-ab6e-3893380cedc1"
      },
      "execution_count": 17,
      "outputs": [
        {
          "output_type": "execute_result",
          "data": {
            "text/plain": [
              "3"
            ]
          },
          "metadata": {},
          "execution_count": 17
        }
      ]
    },
    {
      "cell_type": "markdown",
      "source": [
        "string 인덱스는 list 인덱스와 동일함"
      ],
      "metadata": {
        "id": "BSi4FJaCSdYH"
      }
    },
    {
      "cell_type": "code",
      "source": [
        "a = 'abcdef12345'\n",
        "a[2:5]"
      ],
      "metadata": {
        "colab": {
          "base_uri": "https://localhost:8080/",
          "height": 36
        },
        "id": "HZjG8n-zRr9r",
        "outputId": "73e64e1c-9988-4f3e-aaa5-ee210594e87a"
      },
      "execution_count": 20,
      "outputs": [
        {
          "output_type": "execute_result",
          "data": {
            "text/plain": [
              "'cde'"
            ],
            "application/vnd.google.colaboratory.intrinsic+json": {
              "type": "string"
            }
          },
          "metadata": {},
          "execution_count": 20
        }
      ]
    },
    {
      "cell_type": "markdown",
      "source": [
        "**Dict**\n",
        "\n",
        "중괄호, 콤마, 콜론 세 아이템으로 조합\n",
        "\n",
        "key로 value에 access함\n",
        "\n",
        "' '를 쓰든 \" \"를 쓰든 상관 없음\n",
        "\n",
        "여러 개를 쓸 땐 세미콜론';'을 사용"
      ],
      "metadata": {
        "id": "d9X1LC-AT5iV"
      }
    },
    {
      "cell_type": "code",
      "source": [
        "a =\t{\"a\": \"apple\", \"b\": \"orange\", \"c\": 2014}\n",
        "print(type(a))\n",
        "print(a[\"a\"])"
      ],
      "metadata": {
        "colab": {
          "base_uri": "https://localhost:8080/"
        },
        "id": "hBzzMiZAUTlD",
        "outputId": "471216d7-1b4b-4475-9522-679cad4250ff"
      },
      "execution_count": 21,
      "outputs": [
        {
          "output_type": "stream",
          "name": "stdout",
          "text": [
            "<class 'dict'>\n",
            "apple\n"
          ]
        }
      ]
    },
    {
      "cell_type": "markdown",
      "source": [
        "String 추가 설명"
      ],
      "metadata": {
        "id": "W2h8K9J0WedM"
      }
    },
    {
      "cell_type": "code",
      "source": [
        "s = 'abcdef'\n",
        "print(s[0], s[5], s[-1], s[-6])\n",
        "print(s[1:3], s[1:], s[:3], s[:])"
      ],
      "metadata": {
        "colab": {
          "base_uri": "https://localhost:8080/"
        },
        "id": "rBsmro6aWnE7",
        "outputId": "88b3ad7f-e6fb-48df-e6d2-0b37625ec448"
      },
      "execution_count": 22,
      "outputs": [
        {
          "output_type": "stream",
          "name": "stdout",
          "text": [
            "a f f a\n",
            "bc bcdef abc abcdef\n"
          ]
        }
      ]
    },
    {
      "cell_type": "code",
      "source": [
        "n = [100, 200, 300]\n",
        "print(n[0], n[2], n[-1], n[-3])\n",
        "print(n[1:2], n[1:], n[:2], n[:])"
      ],
      "metadata": {
        "colab": {
          "base_uri": "https://localhost:8080/"
        },
        "id": "sTm0JD8UWtN6",
        "outputId": "04024bc6-468e-42c9-96df-e9c19664a7ce"
      },
      "execution_count": 23,
      "outputs": [
        {
          "output_type": "stream",
          "name": "stdout",
          "text": [
            "100 300 300 100\n",
            "[200] [200, 300] [100, 200] [100, 200, 300]\n"
          ]
        }
      ]
    },
    {
      "cell_type": "markdown",
      "source": [
        "stirng은 더하기(+)와 곱하기(*)도 가능함"
      ],
      "metadata": {
        "id": "mFL9XRT9WzEm"
      }
    },
    {
      "cell_type": "code",
      "source": [
        "s[1]+s[3]+s[4:]*10"
      ],
      "metadata": {
        "id": "26wQH2-hWuOH"
      },
      "execution_count": null,
      "outputs": []
    },
    {
      "cell_type": "markdown",
      "source": [
        "# 함수(Function)\n",
        "\n",
        "입출력, 명령\n",
        "\n",
        "함수(입력)의 형태로, 괄호가 필요함\n",
        "\n",
        "\n",
        "built-in function은 내장된 함수고 이 외에 import가 필요한 function도 있음\n"
      ],
      "metadata": {
        "id": "gINrnEneYBuU"
      }
    },
    {
      "cell_type": "markdown",
      "source": [
        "len(s)는 s의 길이를 계산하라는 명령 "
      ],
      "metadata": {
        "id": "22Uv1IQ6aaZk"
      }
    },
    {
      "cell_type": "code",
      "source": [
        "s = 'abcdef'\n",
        "len(s)"
      ],
      "metadata": {
        "colab": {
          "base_uri": "https://localhost:8080/"
        },
        "id": "KLPdBH6MajHs",
        "outputId": "b48cf5ac-d117-44bd-8b58-ec848deb6bc4"
      },
      "execution_count": 24,
      "outputs": [
        {
          "output_type": "execute_result",
          "data": {
            "text/plain": [
              "6"
            ]
          },
          "metadata": {},
          "execution_count": 24
        }
      ]
    },
    {
      "cell_type": "markdown",
      "source": [
        "s.upper()는 s를 대문자로 바꾸라는 명령"
      ],
      "metadata": {
        "id": "Vtxe3-eDaoXA"
      }
    },
    {
      "cell_type": "code",
      "source": [
        "s.upper()"
      ],
      "metadata": {
        "colab": {
          "base_uri": "https://localhost:8080/",
          "height": 36
        },
        "id": "C-6F9LmkaxCA",
        "outputId": "86b1a266-3528-4b18-a5bb-100325269d60"
      },
      "execution_count": 25,
      "outputs": [
        {
          "output_type": "execute_result",
          "data": {
            "text/plain": [
              "'ABCDEF'"
            ],
            "application/vnd.google.colaboratory.intrinsic+json": {
              "type": "string"
            }
          },
          "metadata": {},
          "execution_count": 25
        }
      ]
    },
    {
      "cell_type": "markdown",
      "source": [
        "s.find()는 입력한 값이 몇 번째부터 나오는지 찾으라는 명령"
      ],
      "metadata": {
        "id": "1dg9DsK7azGN"
      }
    },
    {
      "cell_type": "code",
      "source": [
        "s = ' this is a house built this year.\\n' \t\n",
        "result = s.find('house') \t\n",
        "result"
      ],
      "metadata": {
        "colab": {
          "base_uri": "https://localhost:8080/"
        },
        "id": "DCBXY_c6a985",
        "outputId": "5a3536f3-31a0-4be6-9e61-58c0e88dfd6c"
      },
      "execution_count": 28,
      "outputs": [
        {
          "output_type": "execute_result",
          "data": {
            "text/plain": [
              "11"
            ]
          },
          "metadata": {},
          "execution_count": 28
        }
      ]
    },
    {
      "cell_type": "code",
      "source": [
        "result = s.find('this')\t      # index of first instance of string t inside s (-1 if not found)\n",
        "result"
      ],
      "metadata": {
        "colab": {
          "base_uri": "https://localhost:8080/"
        },
        "id": "cW5G2AMnbW81",
        "outputId": "14164663-d6bd-49aa-cafd-e713cb32d9b5"
      },
      "execution_count": 29,
      "outputs": [
        {
          "output_type": "execute_result",
          "data": {
            "text/plain": [
              "1"
            ]
          },
          "metadata": {},
          "execution_count": 29
        }
      ]
    },
    {
      "cell_type": "markdown",
      "source": [
        "s.strip()는 공백을 제거하라는 명령"
      ],
      "metadata": {
        "id": "oM49swL_brzG"
      }
    },
    {
      "cell_type": "code",
      "source": [
        "s = s.strip()      \t\n",
        "s"
      ],
      "metadata": {
        "colab": {
          "base_uri": "https://localhost:8080/",
          "height": 36
        },
        "id": "2fW1_5E-bwYA",
        "outputId": "61ba9829-96bf-48f9-89e4-52ea9582f77f"
      },
      "execution_count": 30,
      "outputs": [
        {
          "output_type": "execute_result",
          "data": {
            "text/plain": [
              "'this is a house built this year.'"
            ],
            "application/vnd.google.colaboratory.intrinsic+json": {
              "type": "string"
            }
          },
          "metadata": {},
          "execution_count": 30
        }
      ]
    },
    {
      "cell_type": "markdown",
      "source": [
        "tokens는 빈칸을 중심으로 '' 안 단어들을 쪼개라는 명령"
      ],
      "metadata": {
        "id": "OzKfkHkFcFyu"
      }
    },
    {
      "cell_type": "code",
      "source": [
        "tokens = s.split(' ')\t \n",
        "tokens"
      ],
      "metadata": {
        "colab": {
          "base_uri": "https://localhost:8080/"
        },
        "id": "dPMSfDPXcGm5",
        "outputId": "7a8e583e-403c-4a56-acf9-7916f916db2c"
      },
      "execution_count": 31,
      "outputs": [
        {
          "output_type": "execute_result",
          "data": {
            "text/plain": [
              "['this', 'is', 'a', 'house', 'built', 'this', 'year.']"
            ]
          },
          "metadata": {},
          "execution_count": 31
        }
      ]
    },
    {
      "cell_type": "markdown",
      "source": [
        "join을 사용하면 tokens을 통해 쪼갠 단어들을 원문장으로 되돌릴 수 있음"
      ],
      "metadata": {
        "id": "VhFDx24acgDt"
      }
    },
    {
      "cell_type": "code",
      "source": [
        "s = ' '.join(tokens)\t \n",
        "s"
      ],
      "metadata": {
        "colab": {
          "base_uri": "https://localhost:8080/",
          "height": 36
        },
        "id": "um6IXvb7ciZO",
        "outputId": "a17d6439-7df7-4327-efe6-3f4d8740564b"
      },
      "execution_count": 32,
      "outputs": [
        {
          "output_type": "execute_result",
          "data": {
            "text/plain": [
              "'this is a house built this year.'"
            ],
            "application/vnd.google.colaboratory.intrinsic+json": {
              "type": "string"
            }
          },
          "metadata": {},
          "execution_count": 32
        }
      ]
    },
    {
      "cell_type": "markdown",
      "source": [
        "replace는 특정 아이템을 다른 아이템으로 교체하라는 명령"
      ],
      "metadata": {
        "id": "YX2DvV35crZ2"
      }
    },
    {
      "cell_type": "code",
      "source": [
        "s = s.replace('this', 'that')\n",
        "s"
      ],
      "metadata": {
        "colab": {
          "base_uri": "https://localhost:8080/",
          "height": 36
        },
        "id": "f0Ud8k7dc27L",
        "outputId": "375fe919-1cbc-4e99-87c9-a43cd0f0a016"
      },
      "execution_count": 33,
      "outputs": [
        {
          "output_type": "execute_result",
          "data": {
            "text/plain": [
              "'that is a house built that year.'"
            ],
            "application/vnd.google.colaboratory.intrinsic+json": {
              "type": "string"
            }
          },
          "metadata": {},
          "execution_count": 33
        }
      ]
    },
    {
      "cell_type": "markdown",
      "source": [
        "**Function 만드는 방법**\n",
        "\n",
        "def 함수이름 (입력변수1, 입력변수2):\n",
        "\n",
        "'c=a+b' 와 같은 함수 정의 내용 설정\n",
        "\n",
        "return 출력변수명 (여러 개 가능)\n"
      ],
      "metadata": {
        "id": "1RRmen7Id5B0"
      }
    },
    {
      "cell_type": "code",
      "source": [
        "def add(a,b):\n",
        "  return a+b\n",
        "\n",
        "def subtract(a,b):\n",
        "  return a-b\n",
        "\n",
        "def multiply(a,b):\n",
        "  return a*b\n",
        "\n",
        "def divide(a,b):\n",
        "  return a/b"
      ],
      "metadata": {
        "id": "TOMwlIv6eFNF"
      },
      "execution_count": 34,
      "outputs": []
    },
    {
      "cell_type": "code",
      "source": [
        "c = add(1,2); print(c)\n",
        "c = subtract(1,2); print(c)\n",
        "c = multiply(1,2); print(c)\n",
        "c = divide(1,2); print(c)"
      ],
      "metadata": {
        "colab": {
          "base_uri": "https://localhost:8080/"
        },
        "id": "USuLi3i-eJYO",
        "outputId": "9da6bda0-63e4-48a0-f2d2-1b0b05502793"
      },
      "execution_count": 35,
      "outputs": [
        {
          "output_type": "stream",
          "name": "stdout",
          "text": [
            "3\n",
            "-1\n",
            "2\n",
            "0.5\n"
          ]
        }
      ]
    },
    {
      "cell_type": "markdown",
      "source": [
        "# Syntax\n",
        "\n",
        "반복문  for (while)\n",
        "\n",
        "조건문 if\n"
      ],
      "metadata": {
        "id": "o2OwMxDiev9g"
      }
    },
    {
      "cell_type": "markdown",
      "source": [
        "**반복문 for**\n",
        "\n",
        "for  i  in  a\n",
        "\n",
        "=> a에 있는 아이템들을 '처음부터 하나씩 차례로' 받아서 i에 넣고 돌린다는 의미\n",
        "\n",
        "for를 중첩해서 사용 가능\n",
        "\n"
      ],
      "metadata": {
        "id": "8o00BXF3h7AD"
      }
    },
    {
      "cell_type": "code",
      "source": [
        "a = [1, 2, 3, 4]\n",
        "for i in a:\n",
        "    print(i)"
      ],
      "metadata": {
        "colab": {
          "base_uri": "https://localhost:8080/"
        },
        "id": "04Z-aLU8hofp",
        "outputId": "710982d9-ff26-4ae6-bf37-7300e85c8bcc"
      },
      "execution_count": 37,
      "outputs": [
        {
          "output_type": "stream",
          "name": "stdout",
          "text": [
            "1\n",
            "2\n",
            "3\n",
            "4\n"
          ]
        }
      ]
    },
    {
      "cell_type": "markdown",
      "source": [
        "range(4)는  for i in range(4)의 형태로 자주 쓰이는데,  [0, 1, 2, 3]의 리스트가 만들어진다고 보면 됨"
      ],
      "metadata": {
        "id": "kSIQo6COisWV"
      }
    },
    {
      "cell_type": "code",
      "source": [
        "a = [1, 2, 3, 4]\n",
        "for i in range(4):\n",
        "    print(a[i])"
      ],
      "metadata": {
        "colab": {
          "base_uri": "https://localhost:8080/"
        },
        "id": "z4AXYmNCi3hC",
        "outputId": "7c83e7f7-dd30-4290-d6bf-cc492cf2c034"
      },
      "execution_count": 40,
      "outputs": [
        {
          "output_type": "stream",
          "name": "stdout",
          "text": [
            "1\n",
            "2\n",
            "3\n",
            "4\n"
          ]
        }
      ]
    },
    {
      "cell_type": "markdown",
      "source": [
        "list에 string이 들어가기도 함"
      ],
      "metadata": {
        "id": "5AcdtxsHjgeu"
      }
    },
    {
      "cell_type": "code",
      "source": [
        "a = ['red', 'green', 'blue', 'purple']\n",
        "for i in a:\n",
        "    print(i)"
      ],
      "metadata": {
        "colab": {
          "base_uri": "https://localhost:8080/"
        },
        "id": "tzoa0MDWjS9t",
        "outputId": "7bf66b4b-0823-4657-8cf4-d6f36f477338"
      },
      "execution_count": 41,
      "outputs": [
        {
          "output_type": "stream",
          "name": "stdout",
          "text": [
            "red\n",
            "green\n",
            "blue\n",
            "purple\n"
          ]
        }
      ]
    },
    {
      "cell_type": "markdown",
      "source": [
        "range(len(a)) =  range(4)"
      ],
      "metadata": {
        "id": "w2mzmh7jkOU4"
      }
    },
    {
      "cell_type": "code",
      "source": [
        "a = ['red', 'green', 'blue', 'purple']\n",
        "for i in range(len(a)):\n",
        "    print(a[i])"
      ],
      "metadata": {
        "colab": {
          "base_uri": "https://localhost:8080/"
        },
        "id": "ijEESx6MjUyO",
        "outputId": "db4e668f-c8de-483d-eeaf-cf36794d6917"
      },
      "execution_count": 42,
      "outputs": [
        {
          "output_type": "stream",
          "name": "stdout",
          "text": [
            "red\n",
            "green\n",
            "blue\n",
            "purple\n"
          ]
        }
      ]
    },
    {
      "cell_type": "markdown",
      "source": [
        "**조건문 If**\n",
        "\n",
        "'a=0'에서 ‘=’는 같다는 의미가 아님 (왼쪽을 오른쪽에 assign한다는 의미)\n",
        "\n",
        "'맞다면, 같다면'는 의미로 쓰려면 ‘==’을 사용\n",
        "\n",
        "'아니라면, 다르다면'은 '!='을 사용\n",
        "\n",
        "'그렇지 않다면'은 ' else'를 사용\n",
        "\n",
        "\n",
        "> If a == 0 -> 만약 a가 0과 같다면,\n",
        "\n",
        ">  print(a) -> a를 출력하라\n"
      ],
      "metadata": {
        "id": "BWIKHCLxkx3A"
      }
    },
    {
      "cell_type": "code",
      "source": [
        "a = 0\n",
        "if a == 0:\n",
        "    print(a)\n"
      ],
      "metadata": {
        "colab": {
          "base_uri": "https://localhost:8080/"
        },
        "id": "0jRmm0bmmNC_",
        "outputId": "1d739c1e-d90d-41f0-e3cd-966fe2494166"
      },
      "execution_count": 43,
      "outputs": [
        {
          "output_type": "stream",
          "name": "stdout",
          "text": [
            "0\n"
          ]
        }
      ]
    },
    {
      "cell_type": "code",
      "source": [
        "a = 0\n",
        "if a == 0:\n",
        "    print(a)\n",
        "else:\n",
        "    print(a+1)"
      ],
      "metadata": {
        "colab": {
          "base_uri": "https://localhost:8080/"
        },
        "id": "r77SheWrmYYB",
        "outputId": "cfd598e6-3847-4744-f888-cb36a298f603"
      },
      "execution_count": 44,
      "outputs": [
        {
          "output_type": "stream",
          "name": "stdout",
          "text": [
            "0\n"
          ]
        }
      ]
    },
    {
      "cell_type": "markdown",
      "source": [
        "# Import\n",
        "\n",
        "누군가가 만들어 놓은 패키지를 쓰기 위해서 불러오는 것\n",
        "\n",
        "Install, import, built-in 세 종류\n",
        "\n",
        "\n",
        "> Import는 창고(ram)에 저장된 재료를 도마로 가져오는 것\n",
        "\n",
        "\n",
        "> Install은 재료가 창고(ram)에도 없어서 마트에서 사와야 하는 것\n",
        "\n",
        "\n",
        "> Built-in은 항상 주방에 있는 조미료와 같은 것\n",
        "\n",
        "\n",
        "\n",
        "\n",
        "\n"
      ],
      "metadata": {
        "id": "9WXtPmaQ1Kvk"
      }
    },
    {
      "cell_type": "markdown",
      "source": [
        "**Import 하는 방법**\n",
        "\n",
        "\n",
        "> Import   패키지 방법 \n",
        "\n",
        "\n",
        "> 사용하고자 하는 function을 정확하게 지정해줘야 함 (ex. Numpy의 디렉토리1에 있는 Function1) \n",
        "\n",
        "\n",
        "\n",
        "\n",
        "\n"
      ],
      "metadata": {
        "id": "nlpze0WE2UaF"
      }
    },
    {
      "cell_type": "markdown",
      "source": [
        "**Numpy**\n",
        "\n",
        "난수(random number), 행렬을 generate하거나 숫자를 가지고 간단한 통계 처리를 도와주는 패키지"
      ],
      "metadata": {
        "id": "VwbarkiN37kB"
      }
    },
    {
      "cell_type": "code",
      "source": [
        "import numpy as np\n",
        "n = np.random.randn(100)"
      ],
      "metadata": {
        "id": "L-6rsvXA3TKL"
      },
      "execution_count": 48,
      "outputs": []
    },
    {
      "cell_type": "markdown",
      "source": [
        "**Matplotlib**\n",
        "\n",
        "plotting, visualize 패키지\n",
        "\n",
        "random number를 가지고 실행하기 때문에 실행할 때마다 그래프가 바뀜\n",
        "\n"
      ],
      "metadata": {
        "id": "8XgLnlXe4RXg"
      }
    },
    {
      "cell_type": "code",
      "source": [
        "import matplotlib\n",
        "matplotlib.pyplot.hist(n)"
      ],
      "metadata": {
        "colab": {
          "base_uri": "https://localhost:8080/",
          "height": 359
        },
        "id": "gqO_lRF33dyf",
        "outputId": "233edf5d-0cfd-4e88-f301-2d5d8d7bca01"
      },
      "execution_count": 49,
      "outputs": [
        {
          "output_type": "execute_result",
          "data": {
            "text/plain": [
              "(array([ 6., 16., 19., 25., 21.,  8.,  3.,  0.,  1.,  1.]),\n",
              " array([-1.81330156, -1.27500106, -0.73670057, -0.19840008,  0.33990041,\n",
              "         0.87820091,  1.4165014 ,  1.95480189,  2.49310239,  3.03140288,\n",
              "         3.56970337]),\n",
              " <a list of 10 Patch objects>)"
            ]
          },
          "metadata": {},
          "execution_count": 49
        },
        {
          "output_type": "display_data",
          "data": {
            "text/plain": [
              "<Figure size 432x288 with 1 Axes>"
            ],
            "image/png": "[encoded data removed]"
          },
          "metadata": {
            "needs_background": "light"
          }
        }
      ]
    },
    {
      "cell_type": "code",
      "source": [
        "import matplotlib.pyplot\n",
        "matplotlib.pyplot.hist(n)"
      ],
      "metadata": {
        "colab": {
          "base_uri": "https://localhost:8080/",
          "height": 359
        },
        "id": "VTFuhcDL4gD-",
        "outputId": "da348204-7db2-49c5-ddbe-4d2ed0484550"
      },
      "execution_count": 50,
      "outputs": [
        {
          "output_type": "execute_result",
          "data": {
            "text/plain": [
              "(array([ 6., 16., 19., 25., 21.,  8.,  3.,  0.,  1.,  1.]),\n",
              " array([-1.81330156, -1.27500106, -0.73670057, -0.19840008,  0.33990041,\n",
              "         0.87820091,  1.4165014 ,  1.95480189,  2.49310239,  3.03140288,\n",
              "         3.56970337]),\n",
              " <a list of 10 Patch objects>)"
            ]
          },
          "metadata": {},
          "execution_count": 50
        },
        {
          "output_type": "display_data",
          "data": {
            "text/plain": [
              "<Figure size 432x288 with 1 Axes>"
            ],
            "image/png": "[encoded data removed]"
          },
          "metadata": {
            "needs_background": "light"
          }
        }
      ]
    },
    {
      "cell_type": "markdown",
      "source": [
        "plt 축약"
      ],
      "metadata": {
        "id": "TMmUtvQD5UkB"
      }
    },
    {
      "cell_type": "code",
      "source": [
        "import matplotlib.pyplot as plt\n",
        "plt.hist(n)"
      ],
      "metadata": {
        "colab": {
          "base_uri": "https://localhost:8080/",
          "height": 359
        },
        "id": "q18buDd84jGq",
        "outputId": "2282296e-3696-4e8c-d49f-06ff881b11a3"
      },
      "execution_count": 51,
      "outputs": [
        {
          "output_type": "execute_result",
          "data": {
            "text/plain": [
              "(array([ 6., 16., 19., 25., 21.,  8.,  3.,  0.,  1.,  1.]),\n",
              " array([-1.81330156, -1.27500106, -0.73670057, -0.19840008,  0.33990041,\n",
              "         0.87820091,  1.4165014 ,  1.95480189,  2.49310239,  3.03140288,\n",
              "         3.56970337]),\n",
              " <a list of 10 Patch objects>)"
            ]
          },
          "metadata": {},
          "execution_count": 51
        },
        {
          "output_type": "display_data",
          "data": {
            "text/plain": [
              "<Figure size 432x288 with 1 Axes>"
            ],
            "image/png": "[encoded data removed]"
          },
          "metadata": {
            "needs_background": "light"
          }
        }
      ]
    },
    {
      "cell_type": "markdown",
      "source": [
        "from import를 쓰면 import as처럼 축약해서 부를 수 있는 효과\n",
        "\n",
        "\n",
        "\n",
        "> matplotlib를 from으로 쓰고, 그 밑에 있는 하위 폴더만 import하는 것\n",
        "\n",
        "> import한 내용을 다 받아적기 번거로우니까 축약하는 여러가지 방법이 있는 것(numpy -> np / matplotlib.pyplot -> plt)\n",
        "\n",
        "\n",
        "\n",
        "\n",
        "\n"
      ],
      "metadata": {
        "id": "ztttI94s5ahz"
      }
    },
    {
      "cell_type": "code",
      "source": [
        "from matplotlib import pyplot\n",
        "pyplot.hist(n)"
      ],
      "metadata": {
        "colab": {
          "base_uri": "https://localhost:8080/",
          "height": 359
        },
        "id": "JBSer5uq55ul",
        "outputId": "a6920b48-de22-4c06-cbc7-4b592df8be79"
      },
      "execution_count": 52,
      "outputs": [
        {
          "output_type": "execute_result",
          "data": {
            "text/plain": [
              "(array([ 6., 16., 19., 25., 21.,  8.,  3.,  0.,  1.,  1.]),\n",
              " array([-1.81330156, -1.27500106, -0.73670057, -0.19840008,  0.33990041,\n",
              "         0.87820091,  1.4165014 ,  1.95480189,  2.49310239,  3.03140288,\n",
              "         3.56970337]),\n",
              " <a list of 10 Patch objects>)"
            ]
          },
          "metadata": {},
          "execution_count": 52
        },
        {
          "output_type": "display_data",
          "data": {
            "text/plain": [
              "<Figure size 432x288 with 1 Axes>"
            ],
            "image/png": "[encoded data removed]"
          },
          "metadata": {
            "needs_background": "light"
          }
        }
      ]
    },
    {
      "cell_type": "code",
      "source": [
        "from matplotlib.pyplot import hist\n",
        "hist(n)"
      ],
      "metadata": {
        "colab": {
          "base_uri": "https://localhost:8080/",
          "height": 359
        },
        "id": "Re878ZXj58FW",
        "outputId": "2a94b98d-d5e9-4c5f-dbe8-646a6b8cb57d"
      },
      "execution_count": 53,
      "outputs": [
        {
          "output_type": "execute_result",
          "data": {
            "text/plain": [
              "(array([ 6., 16., 19., 25., 21.,  8.,  3.,  0.,  1.,  1.]),\n",
              " array([-1.81330156, -1.27500106, -0.73670057, -0.19840008,  0.33990041,\n",
              "         0.87820091,  1.4165014 ,  1.95480189,  2.49310239,  3.03140288,\n",
              "         3.56970337]),\n",
              " <a list of 10 Patch objects>)"
            ]
          },
          "metadata": {},
          "execution_count": 53
        },
        {
          "output_type": "display_data",
          "data": {
            "text/plain": [
              "<Figure size 432x288 with 1 Axes>"
            ],
            "image/png": "[encoded data removed]"
          },
          "metadata": {
            "needs_background": "light"
          }
        }
      ]
    },
    {
      "cell_type": "markdown",
      "source": [
        "# nd arrays (≈matrices)\n",
        "\n",
        "matrice = 직사각형 숫자 배열\n",
        "\n",
        "nd array = n-dimensional array (1D,  2D,  3D...)\n"
      ],
      "metadata": {
        "id": "iMhgVtDD6nw1"
      }
    },
    {
      "cell_type": "markdown",
      "source": [
        "list는 계산할 수 없어서 array로 바꿔야 함\n",
        "\n",
        "array는 list의 내용을 Numpy의 특수한 변수 형태인 nd array로 만들어주는 것."
      ],
      "metadata": {
        "id": "nIPvvDew7UWv"
      }
    },
    {
      "cell_type": "code",
      "source": [
        "import numpy as np"
      ],
      "metadata": {
        "id": "n7GaoRcF733X"
      },
      "execution_count": null,
      "outputs": []
    },
    {
      "cell_type": "code",
      "source": [
        "x = np.array([1,2,3])\n",
        "print(x)\n",
        "print(type(x))\n",
        "print(x.shape)"
      ],
      "metadata": {
        "colab": {
          "base_uri": "https://localhost:8080/"
        },
        "id": "1UrmZ0-X7JMG",
        "outputId": "d2c11856-768e-40f1-cdb1-7a2d18664db1"
      },
      "execution_count": 54,
      "outputs": [
        {
          "output_type": "stream",
          "name": "stdout",
          "text": [
            "[1 2 3]\n",
            "<class 'numpy.ndarray'>\n",
            "(3,)\n"
          ]
        }
      ]
    },
    {
      "cell_type": "markdown",
      "source": [
        "a-range(a, b, c): a부터 b까지의 range에서 c의 increment를 만들라는 것"
      ],
      "metadata": {
        "id": "t_sMT8pw899Q"
      }
    },
    {
      "cell_type": "code",
      "source": [
        "x = np.arange(0,10,2)\n",
        "print(x)\n",
        "print(type(x))\n",
        "print(x.shape)"
      ],
      "metadata": {
        "colab": {
          "base_uri": "https://localhost:8080/"
        },
        "id": "94q9vQby767Z",
        "outputId": "18f085b2-05ea-4ded-fb1c-19ad30e64f28"
      },
      "execution_count": 55,
      "outputs": [
        {
          "output_type": "stream",
          "name": "stdout",
          "text": [
            "[0 2 4 6 8]\n",
            "<class 'numpy.ndarray'>\n",
            "(5,)\n"
          ]
        }
      ]
    },
    {
      "cell_type": "markdown",
      "source": [
        "linspace = linear space\n",
        "\n",
        "a부터 b까지 등분해서 총 c개의 숫자를 만들라는 것\n"
      ],
      "metadata": {
        "id": "PanADUHF8NAr"
      }
    },
    {
      "cell_type": "code",
      "source": [
        "x = np.linspace(0,10,6)\n",
        "print(x)\n",
        "print(type(x))\n",
        "print(x.shape)"
      ],
      "metadata": {
        "id": "XNbD2yl58DhI"
      },
      "execution_count": null,
      "outputs": []
    },
    {
      "cell_type": "markdown",
      "source": [
        "두 개의 list가 묶여있는 경우"
      ],
      "metadata": {
        "id": "qwjyiff49bI8"
      }
    },
    {
      "cell_type": "code",
      "source": [
        "x = np.array([[1,2,3], [4,5,6]])\n",
        "print(x)\n",
        "print(type(x))\n",
        "print(x.shape)"
      ],
      "metadata": {
        "colab": {
          "base_uri": "https://localhost:8080/"
        },
        "id": "b-sSbjH59eff",
        "outputId": "3f7a9f31-003b-48f5-c846-4e29984bdabe"
      },
      "execution_count": 56,
      "outputs": [
        {
          "output_type": "stream",
          "name": "stdout",
          "text": [
            "[[1 2 3]\n",
            " [4 5 6]]\n",
            "<class 'numpy.ndarray'>\n",
            "(2, 3)\n"
          ]
        }
      ]
    },
    {
      "cell_type": "markdown",
      "source": [
        "두 개의 list 묶음이 두 층으로 이루어진 경우"
      ],
      "metadata": {
        "id": "v7z28Lir97lD"
      }
    },
    {
      "cell_type": "code",
      "source": [
        "x = np.array([[[1,2,3], [4,5,6]], [[7,8,9], [10,11,12]]])\n",
        "print(x)\n",
        "print(type(x))\n",
        "print(x.shape)"
      ],
      "metadata": {
        "colab": {
          "base_uri": "https://localhost:8080/"
        },
        "id": "fOy6dm_e98nb",
        "outputId": "c53a3129-9208-4330-94ba-33cb8f21409b"
      },
      "execution_count": 57,
      "outputs": [
        {
          "output_type": "stream",
          "name": "stdout",
          "text": [
            "[[[ 1  2  3]\n",
            "  [ 4  5  6]]\n",
            "\n",
            " [[ 7  8  9]\n",
            "  [10 11 12]]]\n",
            "<class 'numpy.ndarray'>\n",
            "(2, 2, 3)\n"
          ]
        }
      ]
    },
    {
      "cell_type": "markdown",
      "source": [
        "난수(random number) 만들기 - 3D"
      ],
      "metadata": {
        "id": "ZBh2Kme0-F0o"
      }
    },
    {
      "cell_type": "code",
      "source": [
        "np.random.normal(0, 1, [2,3,4])"
      ],
      "metadata": {
        "colab": {
          "base_uri": "https://localhost:8080/"
        },
        "id": "TnuwGqpy-SdC",
        "outputId": "106b905f-fae0-4e22-8faf-84ce043c61b4"
      },
      "execution_count": 58,
      "outputs": [
        {
          "output_type": "execute_result",
          "data": {
            "text/plain": [
              "array([[[-0.5972338 , -0.93824244, -0.39123296, -0.68700407],\n",
              "        [ 1.41656756,  1.86700744, -1.97446637, -0.49348201],\n",
              "        [-0.45783497,  1.19495212,  0.49697432, -2.06510911]],\n",
              "\n",
              "       [[ 0.85075365, -0.86492511, -0.72763228,  0.50795411],\n",
              "        [ 0.48816137,  2.30782208,  1.49955027,  0.26874896],\n",
              "        [-1.48980401,  0.83114122, -0.62113013,  1.27915438]]])"
            ]
          },
          "metadata": {},
          "execution_count": 58
        }
      ]
    },
    {
      "cell_type": "markdown",
      "source": [
        "난수(random number) 만들기 - 1D (긴 한 줄의 숫자 100개)\n",
        "\n",
        "bin = 통"
      ],
      "metadata": {
        "id": "HJ4ct6Xz-nyZ"
      }
    },
    {
      "cell_type": "code",
      "source": [
        "import matplotlib.pyplot as plt"
      ],
      "metadata": {
        "id": "OIg7Rhwo-irW"
      },
      "execution_count": 59,
      "outputs": []
    },
    {
      "cell_type": "code",
      "source": [
        "x = np.random.normal(0, 1, 100)\n",
        "print(x)\n",
        "plt.hist(x, bins=10)"
      ],
      "metadata": {
        "colab": {
          "base_uri": "https://localhost:8080/",
          "height": 676
        },
        "id": "EX2JcRdZ-mKP",
        "outputId": "c6f596a6-ba53-470f-fb36-b24656d2aacd"
      },
      "execution_count": 60,
      "outputs": [
        {
          "output_type": "stream",
          "name": "stdout",
          "text": [
            "[-0.4477896   0.6020546   0.27612053 -0.64323564  0.36418364  1.94061438\n",
            "  1.2345423   0.79203007  1.68903696  1.07287782  0.37722058 -0.59157469\n",
            " -1.03991059 -0.23538061 -1.68951669  1.09569846  0.67407388  1.57545345\n",
            " -0.5829283  -0.6316681  -1.03031654  0.24918756  0.116179    0.31188208\n",
            "  1.05682989  1.19225729  0.60826636  0.20222881 -0.26315053 -0.47303812\n",
            " -0.5303167   0.08754235  0.70544536 -0.41805982 -1.39997028 -0.53369538\n",
            " -0.45973141 -0.85915489 -1.29443739  1.26089238  0.71584159 -0.71072663\n",
            " -1.24785752 -1.31618501  1.11937718 -0.74779537 -0.60417393  0.60270482\n",
            "  1.47768062 -0.03606371  1.32757438  1.4684349   1.04436831  0.78243355\n",
            "  0.07789538  0.56525687 -1.82465184 -0.28739002 -0.40100658 -0.88433776\n",
            " -0.72599851 -1.74616595 -0.46222316  0.30994223 -0.91551116  0.98257553\n",
            "  0.66719452  0.04422625  0.90967064  0.95433347  0.2335394   0.5353904\n",
            " -0.2270657  -0.58634999  0.76382176  0.05537283 -1.32670429  0.17234792\n",
            "  0.94472491 -0.00300005 -2.51888481  0.94203108 -0.7400567  -1.10091835\n",
            " -0.8876709   1.24787099  0.25672512 -1.47798804 -1.0135537   0.14334213\n",
            "  1.4279782  -0.21772727  0.6411399   0.12999373 -0.52398257  1.16806219\n",
            "  1.07847048 -0.68471579 -0.86218714 -1.59362364]\n"
          ]
        },
        {
          "output_type": "execute_result",
          "data": {
            "text/plain": [
              "(array([ 1.,  3.,  7., 11., 18., 14., 14., 15., 14.,  3.]),\n",
              " array([-2.51888481, -2.07293489, -1.62698497, -1.18103505, -0.73508513,\n",
              "        -0.28913521,  0.15681471,  0.60276463,  1.04871454,  1.49466446,\n",
              "         1.94061438]),\n",
              " <a list of 10 Patch objects>)"
            ]
          },
          "metadata": {},
          "execution_count": 60
        },
        {
          "output_type": "display_data",
          "data": {
            "text/plain": [
              "<Figure size 432x288 with 1 Axes>"
            ],
            "image/png": "[encoded data removed]"
          },
          "metadata": {
            "needs_background": "light"
          }
        }
      ]
    },
    {
      "cell_type": "markdown",
      "source": [
        "**generate a sine curve**\n",
        "\n",
        "Numpy로 sin 곡선을 만들고, \n",
        "\n",
        "Matplotlib로 plotting하기"
      ],
      "metadata": {
        "id": "7iBc6DU2_c3Q"
      }
    },
    {
      "cell_type": "code",
      "source": [
        "plt.figure()\n",
        "\n",
        "theta1 = np.linspace(0, 2*np.pi, 100)\n",
        "s1 = np.sin(theta1)\n",
        "theta2 = np.linspace(0, 2*np.pi, 100) + np.pi/2\n",
        "s2 = np.sin(theta2)\n",
        "\n",
        "plt.subplot(2, 1, 1) # (rows, columns, panel number)\n",
        "plt.plot(theta1, s1, '.')\n",
        "plt.subplot(2, 1, 2) # (rows, columns, panel number)\n",
        "plt.plot(theta2, s2, '.')"
      ],
      "metadata": {
        "colab": {
          "base_uri": "https://localhost:8080/",
          "height": 284
        },
        "id": "adFt3YEZ_crJ",
        "outputId": "d455183b-87a6-4f39-81da-bafb6b7e9471"
      },
      "execution_count": 61,
      "outputs": [
        {
          "output_type": "execute_result",
          "data": {
            "text/plain": [
              "[<matplotlib.lines.Line2D at 0x7ff2c1f17090>]"
            ]
          },
          "metadata": {},
          "execution_count": 61
        },
        {
          "output_type": "display_data",
          "data": {
            "text/plain": [
              "<Figure size 432x288 with 2 Axes>"
            ],
            "image/png": "[encoded data removed]"
          },
          "metadata": {
            "needs_background": "light"
          }
        }
      ]
    },
    {
      "cell_type": "code",
      "source": [
        "np.corrcoef(s1,s2)"
      ],
      "metadata": {
        "colab": {
          "base_uri": "https://localhost:8080/"
        },
        "id": "_7QZoHxX_psx",
        "outputId": "6fed4d77-9bb6-4749-fb3c-5fa0b1949a90"
      },
      "execution_count": 62,
      "outputs": [
        {
          "output_type": "execute_result",
          "data": {
            "text/plain": [
              "array([[1.00000000e+00, 2.41915449e-17],\n",
              "       [2.41915449e-17, 1.00000000e+00]])"
            ]
          },
          "metadata": {},
          "execution_count": 62
        }
      ]
    }
  ]
}